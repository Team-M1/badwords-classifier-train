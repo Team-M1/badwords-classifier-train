{
  "nbformat": 4,
  "nbformat_minor": 0,
  "metadata": {
    "orig_nbformat": 4,
    "language_info": {
      "name": "python",
      "version": "3.8.11"
    },
    "kernelspec": {
      "name": "python3",
      "display_name": "Python 3.8.11 64-bit (conda)"
    },
    "interpreter": {
      "hash": "c86e0eb5395ede85b9f59b6e8263bc6c22037c4e880f7255165769e612363282"
    },
    "colab": {
      "name": "모델 훈련.ipynb",
      "provenance": []
    }
  },
  "cells": [
    {
      "cell_type": "code",
      "metadata": {
        "colab": {
          "base_uri": "https://localhost:8080/"
        },
        "id": "-4jbAlLWFFPI",
        "outputId": "a3fc0cc0-aa3c-4a23-ee0e-d06950e3b037"
      },
      "source": [
        "!git clone https://github.com/Team-M1/badwords-classifier-train\n",
        "%cd badwords-classifier-train\n",
        "!pip install -r requirements.txt"
      ],
      "execution_count": 1,
      "outputs": [
        {
          "output_type": "stream",
          "text": [
            "Cloning into 'badwords-classifier-train'...\n",
            "remote: Enumerating objects: 47, done.\u001b[K\n",
            "remote: Counting objects: 100% (47/47), done.\u001b[K\n",
            "remote: Compressing objects: 100% (36/36), done.\u001b[K\n",
            "remote: Total 47 (delta 18), reused 39 (delta 10), pack-reused 0\u001b[K\n",
            "Unpacking objects: 100% (47/47), done.\n",
            "/content/badwords-classifier-train\n",
            "Collecting datasets\n",
            "  Downloading datasets-1.11.0-py3-none-any.whl (264 kB)\n",
            "\u001b[K     |████████████████████████████████| 264 kB 6.5 MB/s \n",
            "\u001b[?25hRequirement already satisfied: torchvision in /usr/local/lib/python3.7/dist-packages (from -r requirements.txt (line 2)) (0.10.0+cu102)\n",
            "Requirement already satisfied: torch in /usr/local/lib/python3.7/dist-packages (from -r requirements.txt (line 3)) (1.9.0+cu102)\n",
            "Collecting torchmetrics\n",
            "  Downloading torchmetrics-0.5.0-py3-none-any.whl (272 kB)\n",
            "\u001b[K     |████████████████████████████████| 272 kB 60.1 MB/s \n",
            "\u001b[?25hCollecting transformers\n",
            "  Downloading transformers-4.9.2-py3-none-any.whl (2.6 MB)\n",
            "\u001b[K     |████████████████████████████████| 2.6 MB 33.3 MB/s \n",
            "\u001b[?25hRequirement already satisfied: pandas in /usr/local/lib/python3.7/dist-packages (from -r requirements.txt (line 6)) (1.1.5)\n",
            "Collecting sadice\n",
            "  Downloading sadice-0.1.3-py3-none-any.whl (6.6 kB)\n",
            "Requirement already satisfied: requests>=2.19.0 in /usr/local/lib/python3.7/dist-packages (from datasets->-r requirements.txt (line 1)) (2.23.0)\n",
            "Requirement already satisfied: packaging in /usr/local/lib/python3.7/dist-packages (from datasets->-r requirements.txt (line 1)) (21.0)\n",
            "Collecting fsspec>=2021.05.0\n",
            "  Downloading fsspec-2021.7.0-py3-none-any.whl (118 kB)\n",
            "\u001b[K     |████████████████████████████████| 118 kB 63.7 MB/s \n",
            "\u001b[?25hRequirement already satisfied: multiprocess in /usr/local/lib/python3.7/dist-packages (from datasets->-r requirements.txt (line 1)) (0.70.12.2)\n",
            "Requirement already satisfied: pyarrow!=4.0.0,>=1.0.0 in /usr/local/lib/python3.7/dist-packages (from datasets->-r requirements.txt (line 1)) (3.0.0)\n",
            "Requirement already satisfied: tqdm>=4.42 in /usr/local/lib/python3.7/dist-packages (from datasets->-r requirements.txt (line 1)) (4.62.0)\n",
            "Requirement already satisfied: importlib-metadata in /usr/local/lib/python3.7/dist-packages (from datasets->-r requirements.txt (line 1)) (4.6.4)\n",
            "Requirement already satisfied: numpy>=1.17 in /usr/local/lib/python3.7/dist-packages (from datasets->-r requirements.txt (line 1)) (1.19.5)\n",
            "Collecting huggingface-hub<0.1.0\n",
            "  Downloading huggingface_hub-0.0.16-py3-none-any.whl (50 kB)\n",
            "\u001b[K     |████████████████████████████████| 50 kB 8.6 MB/s \n",
            "\u001b[?25hCollecting xxhash\n",
            "  Downloading xxhash-2.0.2-cp37-cp37m-manylinux2010_x86_64.whl (243 kB)\n",
            "\u001b[K     |████████████████████████████████| 243 kB 56.4 MB/s \n",
            "\u001b[?25hRequirement already satisfied: dill in /usr/local/lib/python3.7/dist-packages (from datasets->-r requirements.txt (line 1)) (0.3.4)\n",
            "Requirement already satisfied: filelock in /usr/local/lib/python3.7/dist-packages (from huggingface-hub<0.1.0->datasets->-r requirements.txt (line 1)) (3.0.12)\n",
            "Requirement already satisfied: typing-extensions in /usr/local/lib/python3.7/dist-packages (from huggingface-hub<0.1.0->datasets->-r requirements.txt (line 1)) (3.7.4.3)\n",
            "Requirement already satisfied: pyparsing>=2.0.2 in /usr/local/lib/python3.7/dist-packages (from packaging->datasets->-r requirements.txt (line 1)) (2.4.7)\n",
            "Requirement already satisfied: idna<3,>=2.5 in /usr/local/lib/python3.7/dist-packages (from requests>=2.19.0->datasets->-r requirements.txt (line 1)) (2.10)\n",
            "Requirement already satisfied: certifi>=2017.4.17 in /usr/local/lib/python3.7/dist-packages (from requests>=2.19.0->datasets->-r requirements.txt (line 1)) (2021.5.30)\n",
            "Requirement already satisfied: chardet<4,>=3.0.2 in /usr/local/lib/python3.7/dist-packages (from requests>=2.19.0->datasets->-r requirements.txt (line 1)) (3.0.4)\n",
            "Requirement already satisfied: urllib3!=1.25.0,!=1.25.1,<1.26,>=1.21.1 in /usr/local/lib/python3.7/dist-packages (from requests>=2.19.0->datasets->-r requirements.txt (line 1)) (1.24.3)\n",
            "Requirement already satisfied: pillow>=5.3.0 in /usr/local/lib/python3.7/dist-packages (from torchvision->-r requirements.txt (line 2)) (7.1.2)\n",
            "Collecting huggingface-hub<0.1.0\n",
            "  Downloading huggingface_hub-0.0.12-py3-none-any.whl (37 kB)\n",
            "Collecting sacremoses\n",
            "  Downloading sacremoses-0.0.45-py3-none-any.whl (895 kB)\n",
            "\u001b[K     |████████████████████████████████| 895 kB 80.8 MB/s \n",
            "\u001b[?25hCollecting tokenizers<0.11,>=0.10.1\n",
            "  Downloading tokenizers-0.10.3-cp37-cp37m-manylinux_2_5_x86_64.manylinux1_x86_64.manylinux_2_12_x86_64.manylinux2010_x86_64.whl (3.3 MB)\n",
            "\u001b[K     |████████████████████████████████| 3.3 MB 49.4 MB/s \n",
            "\u001b[?25hCollecting pyyaml>=5.1\n",
            "  Downloading PyYAML-5.4.1-cp37-cp37m-manylinux1_x86_64.whl (636 kB)\n",
            "\u001b[K     |████████████████████████████████| 636 kB 55.8 MB/s \n",
            "\u001b[?25hRequirement already satisfied: regex!=2019.12.17 in /usr/local/lib/python3.7/dist-packages (from transformers->-r requirements.txt (line 5)) (2019.12.20)\n",
            "Requirement already satisfied: pytz>=2017.2 in /usr/local/lib/python3.7/dist-packages (from pandas->-r requirements.txt (line 6)) (2018.9)\n",
            "Requirement already satisfied: python-dateutil>=2.7.3 in /usr/local/lib/python3.7/dist-packages (from pandas->-r requirements.txt (line 6)) (2.8.2)\n",
            "Requirement already satisfied: six>=1.5 in /usr/local/lib/python3.7/dist-packages (from python-dateutil>=2.7.3->pandas->-r requirements.txt (line 6)) (1.15.0)\n",
            "Requirement already satisfied: zipp>=0.5 in /usr/local/lib/python3.7/dist-packages (from importlib-metadata->datasets->-r requirements.txt (line 1)) (3.5.0)\n",
            "Requirement already satisfied: click in /usr/local/lib/python3.7/dist-packages (from sacremoses->transformers->-r requirements.txt (line 5)) (7.1.2)\n",
            "Requirement already satisfied: joblib in /usr/local/lib/python3.7/dist-packages (from sacremoses->transformers->-r requirements.txt (line 5)) (1.0.1)\n",
            "Installing collected packages: xxhash, tokenizers, sacremoses, pyyaml, huggingface-hub, fsspec, transformers, torchmetrics, sadice, datasets\n",
            "  Attempting uninstall: pyyaml\n",
            "    Found existing installation: PyYAML 3.13\n",
            "    Uninstalling PyYAML-3.13:\n",
            "      Successfully uninstalled PyYAML-3.13\n",
            "Successfully installed datasets-1.11.0 fsspec-2021.7.0 huggingface-hub-0.0.12 pyyaml-5.4.1 sacremoses-0.0.45 sadice-0.1.3 tokenizers-0.10.3 torchmetrics-0.5.0 transformers-4.9.2 xxhash-2.0.2\n"
          ],
          "name": "stdout"
        }
      ]
    },
    {
      "cell_type": "code",
      "metadata": {
        "colab": {
          "base_uri": "https://localhost:8080/"
        },
        "id": "XLWyf0UWFJZs",
        "outputId": "d06ba37f-473d-4edd-aa22-a76d122f43bb"
      },
      "source": [
        "from google.colab import drive\n",
        "drive.mount('/content/drive')\n",
        "\n",
        "path_to_drive = \"/content/drive/MyDrive/Colab Notebooks\""
      ],
      "execution_count": 3,
      "outputs": [
        {
          "output_type": "stream",
          "text": [
            "Drive already mounted at /content/drive; to attempt to forcibly remount, call drive.mount(\"/content/drive\", force_remount=True).\n"
          ],
          "name": "stdout"
        }
      ]
    },
    {
      "cell_type": "markdown",
      "metadata": {
        "id": "uNYRPnTrM-VG"
      },
      "source": [
        "# 시드 통일하기"
      ]
    },
    {
      "cell_type": "code",
      "metadata": {
        "id": "M42n4ohzMRMu"
      },
      "source": [
        "from transformers import set_seed\n",
        "\n",
        "\n",
        "set_seed(42)"
      ],
      "execution_count": null,
      "outputs": []
    },
    {
      "cell_type": "markdown",
      "metadata": {
        "id": "QL3guvwcNB6D"
      },
      "source": [
        "# 모델 불러오기"
      ]
    },
    {
      "cell_type": "code",
      "metadata": {
        "id": "PHbJrxqGQDW0"
      },
      "source": [
        "# 만약 ForSequenceClassification이 붙은 모델을 사용할 경우\n",
        "# model_config = {\n",
        "#     num_labels = 3\n",
        "#     id2label = {0: 0, 1: 1, 2: 2},\n",
        "#     label2id = {0: 0, 1: 1, 2: 2}\n",
        "# }\n",
        "\n",
        "# 다음처럼 모델을 불러오는데 사용\n",
        "# model = AutoModelForSequenceClassification.from_pretrained(\"모델 이름\", **model_config)\n",
        "\n",
        "# 그냥 모델을 불러오는 경우엔 할 필요 없음"
      ],
      "execution_count": null,
      "outputs": []
    },
    {
      "cell_type": "code",
      "metadata": {
        "id": "elGC6r7pNAVa"
      },
      "source": [
        "# 알아서 작성\n",
        "# from transformers import ..."
      ],
      "execution_count": null,
      "outputs": []
    },
    {
      "cell_type": "code",
      "metadata": {
        "id": "doTc2uBbPUvh"
      },
      "source": [
        "# kocharelectra tokenizer를 사용할 경우\n",
        "# model_max_length값을 직접 입력해줘야함. 설정이 안 돼 있음\n",
        "# 다른 토크나이저는 설정이 안 돼 있는게 아니면 설정하면 절대 안됨\n",
        "\n",
        "# from tokenization_kocharelectra import KoCharElectraTokenizer\n",
        "\n",
        "\n",
        "# tokenizer = KoCharElectraTokenizer.from_pretrained(\"monologg/kocharelectra-small-discriminator\", model_max_length=512)"
      ],
      "execution_count": null,
      "outputs": []
    },
    {
      "cell_type": "markdown",
      "metadata": {
        "id": "fU9PiktAF0S7"
      },
      "source": [
        "# 하이퍼 파라미터 설정"
      ]
    },
    {
      "cell_type": "code",
      "metadata": {
        "colab": {
          "base_uri": "https://localhost:8080/",
          "height": 36
        },
        "id": "RVJ_aq34FFPM",
        "outputId": "e2996048-0d34-4719-97c5-59da8517eb1f"
      },
      "source": [
        "num_classes = 3\n",
        "# 원하는 대로 고쳐서 사용\n",
        "batch_size = 64\n",
        "lr = 5e-5  # 0.00005\n",
        "epochs = 15"
      ],
      "execution_count": 7,
      "outputs": [
        {
          "output_type": "execute_result",
          "data": {
            "application/vnd.google.colaboratory.intrinsic+json": {
              "type": "string"
            },
            "text/plain": [
              "'0.000050'"
            ]
          },
          "metadata": {},
          "execution_count": 7
        }
      ]
    },
    {
      "cell_type": "code",
      "metadata": {
        "id": "P8BzmhrpONuf"
      },
      "source": [
        "# 옵티마이저와 스케줄러\n",
        "# 원하는 대로 고쳐서 사용\n",
        "\n",
        "# from torch.optim import AdamW\n",
        "from transformers import AdamW, get_linear_schedule_with_warmup\n",
        "\n",
        "\n",
        "# LENGTH_OF_TRAIN_DATA = 40242\n",
        "# num_training_steps = ((LENGTH_OF_TRAIN_DATA - 1) // batch_size + 1) * epochs\n",
        "# optimizer = AdamW(model.parameters(), lr=lr)\n",
        "# scheduler = get_linear_schedule_with_warmup(optimizer, int(num_training_steps * 0.1), num_training_steps)\n",
        "\n",
        "# 만약 이 스케줄러를 사용할 경우,\n",
        "# optimizer.step() 바로 다음에\n",
        "# scheduler.step()을 호출해야 함"
      ],
      "execution_count": null,
      "outputs": []
    },
    {
      "cell_type": "markdown",
      "metadata": {
        "id": "SgG45_B6RUJa"
      },
      "source": [
        "# f1 score 계산하기"
      ]
    },
    {
      "cell_type": "code",
      "metadata": {
        "id": "ubNHt4R0RTyO"
      },
      "source": [
        "# 1. torchmetrics 사용\n",
        "# requirements에 넣어놨으니 따로 설치할 필요 없음\n",
        "\n",
        "# from torchmetrics import F1\n",
        "\n",
        "\n",
        "# f1_score = F1(num_classes=num_classes)\n",
        "\n",
        "# # 검증 단계에서 사용\n",
        "# for inputs, labels in val_loader:\n",
        "#     # 대충 코드\n",
        "#     output = model(inputs)  # 대충 아웃풋\n",
        "#     pred = torch.argmax(output, dim=1)\n",
        "#     batch_f1 = f1_score(pred, labels)\n",
        "\n",
        "# f1 = f1_score.compute()\n",
        "# print(f1)"
      ],
      "execution_count": null,
      "outputs": []
    },
    {
      "cell_type": "code",
      "metadata": {
        "id": "lTJAFujHRQ_F"
      },
      "source": [
        "# 2. datasets 사용\n",
        "# requirements에 넣어놨으니 따로 설치할 필요 없음\n",
        "\n",
        "# from datasets import load_metric\n",
        "\n",
        "\n",
        "# f1_score = load_metric(\"f1\")\n",
        "\n",
        "# for inputs, labels in val_loader:\n",
        "#     output = model(inputs)  # 대충 아웃풋\n",
        "#     pred = torch.argmax(output, dim=1)\n",
        "#     f1_score.add_batch(predictions=pred, references=output)\n",
        "\n",
        "# f1 = f1_score.compute()\n",
        "# print(f1)"
      ],
      "execution_count": null,
      "outputs": []
    }
  ]
}