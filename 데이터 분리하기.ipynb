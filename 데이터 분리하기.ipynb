{
 "cells": [
  {
   "cell_type": "code",
   "execution_count": 1,
   "source": [
    "import pandas as pd\r\n",
    "from sklearn.model_selection import StratifiedShuffleSplit"
   ],
   "outputs": [],
   "metadata": {}
  },
  {
   "cell_type": "code",
   "execution_count": 2,
   "source": [
    "df = pd.read_csv(\"all_data.csv\")\r\n",
    "df.shape"
   ],
   "outputs": [
    {
     "output_type": "execute_result",
     "data": {
      "text/plain": [
       "(55172, 2)"
      ]
     },
     "metadata": {},
     "execution_count": 2
    }
   ],
   "metadata": {}
  },
  {
   "cell_type": "code",
   "execution_count": 3,
   "source": [
    "train_test_split = StratifiedShuffleSplit(n_splits=1, test_size=5000, random_state=42)\r\n",
    "\r\n",
    "train_val_idx, test_idx = next(train_test_split.split(df, df[\"labels\"]))"
   ],
   "outputs": [],
   "metadata": {}
  },
  {
   "cell_type": "code",
   "execution_count": 6,
   "source": [
    "df_train_val = df.loc[train_val_idx, :].reset_index()\r\n",
    "df_test = df.loc[test_idx, :]\r\n",
    "\r\n",
    "df_train_val.shape, df_test.shape"
   ],
   "outputs": [
    {
     "output_type": "execute_result",
     "data": {
      "text/plain": [
       "((44714, 3), (5000, 2))"
      ]
     },
     "metadata": {},
     "execution_count": 6
    }
   ],
   "metadata": {}
  },
  {
   "cell_type": "code",
   "execution_count": 4,
   "source": [
    "# new\r\n",
    "\r\n",
    "df_train_val = df.loc[train_val_idx, :].reset_index()\r\n",
    "df_test = df.loc[test_idx, :]\r\n",
    "\r\n",
    "df_train_val.shape, df_test.shape"
   ],
   "outputs": [
    {
     "output_type": "execute_result",
     "data": {
      "text/plain": [
       "((50172, 3), (5000, 2))"
      ]
     },
     "metadata": {},
     "execution_count": 4
    }
   ],
   "metadata": {}
  },
  {
   "cell_type": "code",
   "execution_count": 9,
   "source": [
    "df_train_val[\"labels\"].value_counts()"
   ],
   "outputs": [
    {
     "output_type": "execute_result",
     "data": {
      "text/plain": [
       "0    38609\n",
       "1     5199\n",
       "2      906\n",
       "Name: labels, dtype: int64"
      ]
     },
     "metadata": {},
     "execution_count": 9
    }
   ],
   "metadata": {}
  },
  {
   "cell_type": "code",
   "execution_count": 5,
   "source": [
    "# new\r\n",
    "\r\n",
    "df_train_val[\"labels\"].value_counts()"
   ],
   "outputs": [
    {
     "output_type": "execute_result",
     "data": {
      "text/plain": [
       "0    42353\n",
       "1     6753\n",
       "2     1066\n",
       "Name: labels, dtype: int64"
      ]
     },
     "metadata": {},
     "execution_count": 5
    }
   ],
   "metadata": {}
  },
  {
   "cell_type": "code",
   "execution_count": 10,
   "source": [
    "df_test[\"labels\"].value_counts()"
   ],
   "outputs": [
    {
     "output_type": "execute_result",
     "data": {
      "text/plain": [
       "0    4317\n",
       "1     581\n",
       "2     102\n",
       "Name: labels, dtype: int64"
      ]
     },
     "metadata": {},
     "execution_count": 10
    }
   ],
   "metadata": {}
  },
  {
   "cell_type": "code",
   "execution_count": 6,
   "source": [
    "# new\r\n",
    "\r\n",
    "df_test[\"labels\"].value_counts()"
   ],
   "outputs": [
    {
     "output_type": "execute_result",
     "data": {
      "text/plain": [
       "0    4221\n",
       "1     673\n",
       "2     106\n",
       "Name: labels, dtype: int64"
      ]
     },
     "metadata": {},
     "execution_count": 6
    }
   ],
   "metadata": {}
  },
  {
   "cell_type": "code",
   "execution_count": 7,
   "source": [
    "train_val_split = StratifiedShuffleSplit(n_splits=1, random_state=42)\r\n",
    "\r\n",
    "train_idx, val_idx = next(train_val_split.split(df_train_val, df_train_val[\"labels\"]))"
   ],
   "outputs": [],
   "metadata": {}
  },
  {
   "cell_type": "code",
   "execution_count": 14,
   "source": [
    "df_train = df.loc[train_idx, :]\r\n",
    "df_val = df.loc[val_idx, :]\r\n",
    "\r\n",
    "df_train.shape, df_val.shape, df_test.shape, df.shape"
   ],
   "outputs": [
    {
     "output_type": "execute_result",
     "data": {
      "text/plain": [
       "((40242, 2), (4472, 2), (5000, 2), (49714, 2))"
      ]
     },
     "metadata": {},
     "execution_count": 14
    }
   ],
   "metadata": {}
  },
  {
   "cell_type": "code",
   "execution_count": 8,
   "source": [
    "# new\r\n",
    "\r\n",
    "df_train = df.loc[train_idx, :]\r\n",
    "df_val = df.loc[val_idx, :]\r\n",
    "\r\n",
    "df_train.shape, df_val.shape, df_test.shape, df.shape"
   ],
   "outputs": [
    {
     "output_type": "execute_result",
     "data": {
      "text/plain": [
       "((45154, 2), (5018, 2), (5000, 2), (55172, 2))"
      ]
     },
     "metadata": {},
     "execution_count": 8
    }
   ],
   "metadata": {}
  },
  {
   "cell_type": "code",
   "execution_count": 9,
   "source": [
    "df_train.to_csv(\"data/train.csv\", index=False)\r\n",
    "df_val.to_csv(\"data/val.csv\", index=False)\r\n",
    "df_test.to_csv(\"data/test.csv\", index=False)"
   ],
   "outputs": [],
   "metadata": {}
  }
 ],
 "metadata": {
  "orig_nbformat": 4,
  "language_info": {
   "name": "python",
   "version": "3.8.11",
   "mimetype": "text/x-python",
   "codemirror_mode": {
    "name": "ipython",
    "version": 3
   },
   "pygments_lexer": "ipython3",
   "nbconvert_exporter": "python",
   "file_extension": ".py"
  },
  "kernelspec": {
   "name": "python3",
   "display_name": "Python 3.8.11 64-bit (conda)"
  },
  "interpreter": {
   "hash": "c86e0eb5395ede85b9f59b6e8263bc6c22037c4e880f7255165769e612363282"
  }
 },
 "nbformat": 4,
 "nbformat_minor": 2
}