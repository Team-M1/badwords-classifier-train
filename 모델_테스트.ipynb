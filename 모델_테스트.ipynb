{
  "nbformat": 4,
  "nbformat_minor": 2,
  "metadata": {
    "orig_nbformat": 4,
    "language_info": {
      "name": "python",
      "version": "3.8.11",
      "mimetype": "text/x-python",
      "codemirror_mode": {
        "name": "ipython",
        "version": 3
      },
      "pygments_lexer": "ipython3",
      "nbconvert_exporter": "python",
      "file_extension": ".py"
    },
    "kernelspec": {
      "name": "python3",
      "display_name": "Python 3.8.11 64-bit (conda)"
    },
    "interpreter": {
      "hash": "c86e0eb5395ede85b9f59b6e8263bc6c22037c4e880f7255165769e612363282"
    },
    "colab": {
      "name": "모델_테스트.ipynb",
      "provenance": []
    },
    "accelerator": "GPU"
  },
  "cells": [
    {
      "cell_type": "code",
      "execution_count": 1,
      "source": [
        "!cat /proc/cpuinfo\r\n",
        "\r\n",
        "# cpu가 Intel(R) Xeon(R) CPU @ 2.30GHz이어야함"
      ],
      "outputs": [
        {
          "output_type": "stream",
          "name": "stdout",
          "text": [
            "processor\t: 0\n",
            "vendor_id\t: GenuineIntel\n",
            "cpu family\t: 6\n",
            "model\t\t: 63\n",
            "model name\t: Intel(R) Xeon(R) CPU @ 2.30GHz\n",
            "stepping\t: 0\n",
            "microcode\t: 0x1\n",
            "cpu MHz\t\t: 2299.998\n",
            "cache size\t: 46080 KB\n",
            "physical id\t: 0\n",
            "siblings\t: 2\n",
            "core id\t\t: 0\n",
            "cpu cores\t: 1\n",
            "apicid\t\t: 0\n",
            "initial apicid\t: 0\n",
            "fpu\t\t: yes\n",
            "fpu_exception\t: yes\n",
            "cpuid level\t: 13\n",
            "wp\t\t: yes\n",
            "flags\t\t: fpu vme de pse tsc msr pae mce cx8 apic sep mtrr pge mca cmov pat pse36 clflush mmx fxsr sse sse2 ss ht syscall nx pdpe1gb rdtscp lm constant_tsc rep_good nopl xtopology nonstop_tsc cpuid tsc_known_freq pni pclmulqdq ssse3 fma cx16 pcid sse4_1 sse4_2 x2apic movbe popcnt aes xsave avx f16c rdrand hypervisor lahf_lm abm invpcid_single ssbd ibrs ibpb stibp fsgsbase tsc_adjust bmi1 avx2 smep bmi2 erms invpcid xsaveopt arat md_clear arch_capabilities\n",
            "bugs\t\t: cpu_meltdown spectre_v1 spectre_v2 spec_store_bypass l1tf mds swapgs\n",
            "bogomips\t: 4599.99\n",
            "clflush size\t: 64\n",
            "cache_alignment\t: 64\n",
            "address sizes\t: 46 bits physical, 48 bits virtual\n",
            "power management:\n",
            "\n",
            "processor\t: 1\n",
            "vendor_id\t: GenuineIntel\n",
            "cpu family\t: 6\n",
            "model\t\t: 63\n",
            "model name\t: Intel(R) Xeon(R) CPU @ 2.30GHz\n",
            "stepping\t: 0\n",
            "microcode\t: 0x1\n",
            "cpu MHz\t\t: 2299.998\n",
            "cache size\t: 46080 KB\n",
            "physical id\t: 0\n",
            "siblings\t: 2\n",
            "core id\t\t: 0\n",
            "cpu cores\t: 1\n",
            "apicid\t\t: 1\n",
            "initial apicid\t: 1\n",
            "fpu\t\t: yes\n",
            "fpu_exception\t: yes\n",
            "cpuid level\t: 13\n",
            "wp\t\t: yes\n",
            "flags\t\t: fpu vme de pse tsc msr pae mce cx8 apic sep mtrr pge mca cmov pat pse36 clflush mmx fxsr sse sse2 ss ht syscall nx pdpe1gb rdtscp lm constant_tsc rep_good nopl xtopology nonstop_tsc cpuid tsc_known_freq pni pclmulqdq ssse3 fma cx16 pcid sse4_1 sse4_2 x2apic movbe popcnt aes xsave avx f16c rdrand hypervisor lahf_lm abm invpcid_single ssbd ibrs ibpb stibp fsgsbase tsc_adjust bmi1 avx2 smep bmi2 erms invpcid xsaveopt arat md_clear arch_capabilities\n",
            "bugs\t\t: cpu_meltdown spectre_v1 spectre_v2 spec_store_bypass l1tf mds swapgs\n",
            "bogomips\t: 4599.99\n",
            "clflush size\t: 64\n",
            "cache_alignment\t: 64\n",
            "address sizes\t: 46 bits physical, 48 bits virtual\n",
            "power management:\n",
            "\n"
          ]
        }
      ],
      "metadata": {
        "colab": {
          "base_uri": "https://localhost:8080/"
        },
        "id": "LXn3EYNHPESr",
        "outputId": "87ed7a53-ecf6-4f5d-8e5d-805cc1a1f79a"
      }
    },
    {
      "cell_type": "code",
      "execution_count": null,
      "source": [
        "!git clone https://github.com/Team-M1/badwords-classifier-train\r\n",
        "%cd badwords-classifier-train\r\n",
        "!pip install -r requirements.txt"
      ],
      "outputs": [],
      "metadata": {
        "id": "8aFSt1h5PB7D"
      }
    },
    {
      "cell_type": "markdown",
      "source": [
        "# 모델 불러오기\n",
        "\n",
        "각자 알아서 불러올 것"
      ],
      "metadata": {
        "id": "2XgxGpNMPB7E"
      }
    },
    {
      "cell_type": "code",
      "execution_count": null,
      "source": [
        "import numpy as np\r\n",
        "import pandas as pd\r\n",
        "import torch\r\n",
        "from transformers import AutoModelForSequenceClassification, AutoTokenizer\r\n",
        "\r\n",
        "\r\n",
        "model = AutoModelForSequenceClassification.from_pretrained(\"대충 모델\")\r\n",
        "tokenizer = AutoTokenizer.from_pretrained(\"대충 토크나이저\")"
      ],
      "outputs": [],
      "metadata": {
        "id": "RNWLRshtPV_w"
      }
    },
    {
      "cell_type": "code",
      "execution_count": 3,
      "source": [
        "# 테스트 데이터\r\n",
        "\r\n",
        "test_df = pd.read_csv(\"data/test.csv\")\r\n",
        "test_data = test_df[\"content\"]\r\n",
        "test_label = test_df[\"labels\"]\r\n",
        "\r\n",
        "speed_test_data = test_data.head(50).tolist()"
      ],
      "outputs": [],
      "metadata": {
        "id": "GnxrnDjsPB7I"
      }
    },
    {
      "cell_type": "markdown",
      "source": [
        "## 스피드 테스트"
      ],
      "metadata": {
        "id": "5kzFMiEBPB7K"
      }
    },
    {
      "cell_type": "code",
      "execution_count": null,
      "source": [
        "model.to(\"cpu\")\r\n",
        "model.eval()\r\n",
        "print()"
      ],
      "outputs": [],
      "metadata": {
        "id": "ADtsfkMsPdsi"
      }
    },
    {
      "cell_type": "code",
      "execution_count": null,
      "source": [
        "%%timeit\r\n",
        "\r\n",
        "with torch.no_grad():\r\n",
        "    tokens = tokenizer(speed_test_data, padding=\"max_length\", truncation=True, return_tensors=\"pt\")\r\n",
        "    _ = model(**tokens)"
      ],
      "outputs": [],
      "metadata": {
        "id": "mLVdhql7PB7K"
      }
    },
    {
      "cell_type": "markdown",
      "source": [
        "## F1 스코어"
      ],
      "metadata": {
        "id": "VUejlw6sPB7L"
      }
    },
    {
      "cell_type": "code",
      "execution_count": null,
      "source": [
        "from data_loader import get_data_loaders\r\n",
        "\r\n",
        "\r\n",
        "_, _, test_loader = get_data_loaders(tokenizer)"
      ],
      "outputs": [],
      "metadata": {}
    },
    {
      "cell_type": "code",
      "execution_count": null,
      "source": [
        "from torchmetrics import F1\r\n",
        "\r\n",
        "\r\n",
        "f1_score = F1(num_classes=3, average=\"macro\")\r\n",
        "# f1\r\n",
        "model.cuda()\r\n",
        "\r\n",
        "with torch.no_grad():\r\n",
        "    for batch in test_loader:\r\n",
        "        batch = batch.to(\"cuda\")\r\n",
        "        labels = batch.pop(\"labels\")\r\n",
        "        output = model(**batch)\r\n",
        "        logits = output.logits\r\n",
        "        pred = torch.argmax(logits, dim=1)\r\n",
        "        f1_score(pred, labels)\r\n",
        "\r\n",
        "print(f1_score.compute())"
      ],
      "outputs": [],
      "metadata": {
        "id": "iWuwi3tCPB7L"
      }
    }
  ]
}