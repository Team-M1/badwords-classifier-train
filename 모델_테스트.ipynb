{
 "cells": [
  {
   "cell_type": "markdown",
   "metadata": {
    "id": "2XgxGpNMPB7E"
   },
   "source": [
    "# 모델 불러오기\n",
    "\n",
    "각자 알아서 불러올 것"
   ]
  },
  {
   "cell_type": "code",
   "execution_count": 1,
   "metadata": {
    "id": "RNWLRshtPV_w"
   },
   "outputs": [],
   "source": [
    "import numpy as np\n",
    "import pandas as pd\n",
    "import torch\n",
    "from transformers import BertForSequenceClassification, ElectraForSequenceClassification, ElectraTokenizer\n",
    "from tokenization_kobert import KoBertTokenizer\n",
    "\n",
    "model_config = {\n",
    "    \"num_labels\": 3,\n",
    "    \"id2label\": {0: 0, 1: 1, 2: 2},\n",
    "    \"label2id\": {0: 0, 1: 1, 2: 2}\n",
    "}\n",
    "\n",
    "# model = BertForSequenceClassification.from_pretrained(\"KoBERT_datav2/checkpoint-25000\", **model_config)\n",
    "# tokenizer = KoBertTokenizer.from_pretrained(\"monologg/kobert\", model_max_length=512)\n",
    "model = ElectraForSequenceClassification.from_pretrained(\"KoELECTRA_base_v3_datav2/checkpoint-14000\", **model_config)\n",
    "tokenizer = ElectraTokenizer.from_pretrained(\"monologg/koelectra-base-v3-discriminator\", model_max_length=512)"
   ]
  },
  {
   "cell_type": "code",
   "execution_count": 2,
   "metadata": {
    "id": "GnxrnDjsPB7I"
   },
   "outputs": [],
   "source": [
    "# 테스트 데이터\n",
    "\n",
    "test_df = pd.read_csv(\"data/test.csv\")\n",
    "test_data = test_df[\"content\"]\n",
    "test_label = test_df[\"labels\"]\n",
    "\n",
    "speed_test_data = test_data.head(50).tolist()"
   ]
  },
  {
   "cell_type": "markdown",
   "metadata": {
    "id": "5kzFMiEBPB7K"
   },
   "source": [
    "## 스피드 테스트"
   ]
  },
  {
   "cell_type": "code",
   "execution_count": 3,
   "metadata": {
    "id": "ADtsfkMsPdsi"
   },
   "outputs": [
    {
     "name": "stdout",
     "output_type": "stream",
     "text": [
      "\n"
     ]
    }
   ],
   "source": [
    "model.to(\"cpu\")\n",
    "model.eval()\n",
    "print()"
   ]
  },
  {
   "cell_type": "code",
   "execution_count": 4,
   "metadata": {
    "id": "mLVdhql7PB7K"
   },
   "outputs": [
    {
     "name": "stdout",
     "output_type": "stream",
     "text": [
      "23.1 s ± 252 ms per loop (mean ± std. dev. of 7 runs, 1 loop each)\n"
     ]
    }
   ],
   "source": [
    "%%timeit\n",
    "\n",
    "with torch.no_grad():\n",
    "    tokens = tokenizer(speed_test_data, padding=\"max_length\", truncation=True, return_tensors=\"pt\")\n",
    "    _ = model(**tokens)"
   ]
  },
  {
   "cell_type": "markdown",
   "metadata": {
    "id": "VUejlw6sPB7L"
   },
   "source": [
    "## F1 스코어"
   ]
  },
  {
   "cell_type": "code",
   "execution_count": 5,
   "metadata": {},
   "outputs": [
    {
     "name": "stderr",
     "output_type": "stream",
     "text": [
      "Using custom data configuration default-eafb513e725dbeca\n",
      "Reusing dataset csv (C:\\Users\\cglab\\.cache\\huggingface\\datasets\\csv\\default-eafb513e725dbeca\\0.0.0\\9144e0a4e8435090117cea53e6c7537173ef2304525df4a077c435d8ee7828ff)\n",
      "Loading cached processed dataset at C:\\Users\\cglab\\.cache\\huggingface\\datasets\\csv\\default-eafb513e725dbeca\\0.0.0\\9144e0a4e8435090117cea53e6c7537173ef2304525df4a077c435d8ee7828ff\\cache-d815bbee38dcbc26.arrow\n",
      "Loading cached processed dataset at C:\\Users\\cglab\\.cache\\huggingface\\datasets\\csv\\default-eafb513e725dbeca\\0.0.0\\9144e0a4e8435090117cea53e6c7537173ef2304525df4a077c435d8ee7828ff\\cache-5c9fdd80709ca508.arrow\n",
      "Loading cached processed dataset at C:\\Users\\cglab\\.cache\\huggingface\\datasets\\csv\\default-eafb513e725dbeca\\0.0.0\\9144e0a4e8435090117cea53e6c7537173ef2304525df4a077c435d8ee7828ff\\cache-60328c4920383600.arrow\n"
     ]
    }
   ],
   "source": [
    "from data_loader import get_data_loaders\n",
    "\n",
    "\n",
    "_, _, test_loader = get_data_loaders(tokenizer, use_imbalanced=False, device=\"cuda\")"
   ]
  },
  {
   "cell_type": "code",
   "execution_count": 6,
   "metadata": {
    "id": "iWuwi3tCPB7L"
   },
   "outputs": [
    {
     "data": {
      "application/vnd.jupyter.widget-view+json": {
       "model_id": "c9d8fab3860a4cd3abc3d268d42b0edc",
       "version_major": 2,
       "version_minor": 0
      },
      "text/plain": [
       "  0%|          | 0/157 [00:00<?, ?it/s]"
      ]
     },
     "metadata": {},
     "output_type": "display_data"
    },
    {
     "name": "stdout",
     "output_type": "stream",
     "text": [
      "0.9272494316101074\n"
     ]
    }
   ],
   "source": [
    "from torchmetrics import F1\n",
    "from tqdm.auto import tqdm\n",
    "\n",
    "\n",
    "f1_score = F1(num_classes=3, average=\"macro\").cuda()\n",
    "model.cuda()\n",
    "model.eval()\n",
    "\n",
    "with torch.no_grad():\n",
    "    for batch in tqdm(test_loader):\n",
    "        labels = batch.pop(\"labels\")\n",
    "        output = model(**batch)\n",
    "        logits = output.logits\n",
    "        pred = torch.argmax(logits, dim=1)\n",
    "        f1_score(pred, labels)\n",
    "\n",
    "score = f1_score.compute()\n",
    "print(score.item())"
   ]
  },
  {
   "cell_type": "code",
   "execution_count": null,
   "metadata": {},
   "outputs": [],
   "source": []
  }
 ],
 "metadata": {
  "accelerator": "GPU",
  "colab": {
   "name": "모델_테스트.ipynb",
   "provenance": []
  },
  "interpreter": {
   "hash": "c86e0eb5395ede85b9f59b6e8263bc6c22037c4e880f7255165769e612363282"
  },
  "kernelspec": {
   "display_name": "Python 3 (ipykernel)",
   "language": "python",
   "name": "python3"
  },
  "language_info": {
   "codemirror_mode": {
    "name": "ipython",
    "version": 3
   },
   "file_extension": ".py",
   "mimetype": "text/x-python",
   "name": "python",
   "nbconvert_exporter": "python",
   "pygments_lexer": "ipython3",
   "version": "3.7.11"
  }
 },
 "nbformat": 4,
 "nbformat_minor": 2
}
