{
  "nbformat": 4,
  "nbformat_minor": 0,
  "metadata": {
    "orig_nbformat": 4,
    "language_info": {
      "name": "python",
      "version": "3.8.11",
      "mimetype": "text/x-python",
      "codemirror_mode": {
        "name": "ipython",
        "version": 3
      },
      "pygments_lexer": "ipython3",
      "nbconvert_exporter": "python",
      "file_extension": ".py"
    },
    "kernelspec": {
      "name": "python3",
      "display_name": "Python 3.8.11 64-bit (conda)"
    },
    "interpreter": {
      "hash": "c86e0eb5395ede85b9f59b6e8263bc6c22037c4e880f7255165769e612363282"
    },
    "colab": {
      "name": "모델_테스트.ipynb",
      "provenance": []
    },
    "accelerator": "GPU"
  },
  "cells": [
    {
      "cell_type": "code",
      "metadata": {
        "colab": {
          "base_uri": "https://localhost:8080/"
        },
        "id": "LXn3EYNHPESr",
        "outputId": "87ed7a53-ecf6-4f5d-8e5d-805cc1a1f79a"
      },
      "source": [
        "!cat /proc/cpuinfo\n",
        "\n",
        "# cpu가 Intel(R) Xeon(R) CPU @ 2.30GHz이어야함"
      ],
      "execution_count": 1,
      "outputs": [
        {
          "output_type": "stream",
          "name": "stdout",
          "text": [
            "processor\t: 0\n",
            "vendor_id\t: GenuineIntel\n",
            "cpu family\t: 6\n",
            "model\t\t: 63\n",
            "model name\t: Intel(R) Xeon(R) CPU @ 2.30GHz\n",
            "stepping\t: 0\n",
            "microcode\t: 0x1\n",
            "cpu MHz\t\t: 2299.998\n",
            "cache size\t: 46080 KB\n",
            "physical id\t: 0\n",
            "siblings\t: 2\n",
            "core id\t\t: 0\n",
            "cpu cores\t: 1\n",
            "apicid\t\t: 0\n",
            "initial apicid\t: 0\n",
            "fpu\t\t: yes\n",
            "fpu_exception\t: yes\n",
            "cpuid level\t: 13\n",
            "wp\t\t: yes\n",
            "flags\t\t: fpu vme de pse tsc msr pae mce cx8 apic sep mtrr pge mca cmov pat pse36 clflush mmx fxsr sse sse2 ss ht syscall nx pdpe1gb rdtscp lm constant_tsc rep_good nopl xtopology nonstop_tsc cpuid tsc_known_freq pni pclmulqdq ssse3 fma cx16 pcid sse4_1 sse4_2 x2apic movbe popcnt aes xsave avx f16c rdrand hypervisor lahf_lm abm invpcid_single ssbd ibrs ibpb stibp fsgsbase tsc_adjust bmi1 avx2 smep bmi2 erms invpcid xsaveopt arat md_clear arch_capabilities\n",
            "bugs\t\t: cpu_meltdown spectre_v1 spectre_v2 spec_store_bypass l1tf mds swapgs\n",
            "bogomips\t: 4599.99\n",
            "clflush size\t: 64\n",
            "cache_alignment\t: 64\n",
            "address sizes\t: 46 bits physical, 48 bits virtual\n",
            "power management:\n",
            "\n",
            "processor\t: 1\n",
            "vendor_id\t: GenuineIntel\n",
            "cpu family\t: 6\n",
            "model\t\t: 63\n",
            "model name\t: Intel(R) Xeon(R) CPU @ 2.30GHz\n",
            "stepping\t: 0\n",
            "microcode\t: 0x1\n",
            "cpu MHz\t\t: 2299.998\n",
            "cache size\t: 46080 KB\n",
            "physical id\t: 0\n",
            "siblings\t: 2\n",
            "core id\t\t: 0\n",
            "cpu cores\t: 1\n",
            "apicid\t\t: 1\n",
            "initial apicid\t: 1\n",
            "fpu\t\t: yes\n",
            "fpu_exception\t: yes\n",
            "cpuid level\t: 13\n",
            "wp\t\t: yes\n",
            "flags\t\t: fpu vme de pse tsc msr pae mce cx8 apic sep mtrr pge mca cmov pat pse36 clflush mmx fxsr sse sse2 ss ht syscall nx pdpe1gb rdtscp lm constant_tsc rep_good nopl xtopology nonstop_tsc cpuid tsc_known_freq pni pclmulqdq ssse3 fma cx16 pcid sse4_1 sse4_2 x2apic movbe popcnt aes xsave avx f16c rdrand hypervisor lahf_lm abm invpcid_single ssbd ibrs ibpb stibp fsgsbase tsc_adjust bmi1 avx2 smep bmi2 erms invpcid xsaveopt arat md_clear arch_capabilities\n",
            "bugs\t\t: cpu_meltdown spectre_v1 spectre_v2 spec_store_bypass l1tf mds swapgs\n",
            "bogomips\t: 4599.99\n",
            "clflush size\t: 64\n",
            "cache_alignment\t: 64\n",
            "address sizes\t: 46 bits physical, 48 bits virtual\n",
            "power management:\n",
            "\n"
          ]
        }
      ]
    },
    {
      "cell_type": "code",
      "metadata": {
        "id": "8aFSt1h5PB7D"
      },
      "source": [
        "!git clone https://github.com/Team-M1/badwords-classifier-train\n",
        "%cd badwords-classifier-train\n",
        "!pip install -r requirements.txt"
      ],
      "execution_count": null,
      "outputs": []
    },
    {
      "cell_type": "markdown",
      "metadata": {
        "id": "2XgxGpNMPB7E"
      },
      "source": [
        "# 모델 불러오기\n",
        "\n",
        "각자 알아서 불러올 것"
      ]
    },
    {
      "cell_type": "code",
      "metadata": {
        "id": "RNWLRshtPV_w"
      },
      "source": [
        "import numpy as np\n",
        "import pandas as pd\n",
        "import torch\n",
        "from transformers import AutoModelForSequenceClassification, AutoTokenizer\n",
        "\n",
        "\n",
        "model = AutoModelForSequenceClassification.from_pretrained(\"대충 모델\")\n",
        "tokenizer = AutoTokenizer.from_pretrained(\"대충 토크나이저\")"
      ],
      "execution_count": null,
      "outputs": []
    },
    {
      "cell_type": "code",
      "metadata": {
        "id": "GnxrnDjsPB7I"
      },
      "source": [
        "# 테스트 데이터\n",
        "\n",
        "test_df = pd.read_csv(\"data/test.csv\")\n",
        "test_data = test_df[\"content\"]\n",
        "test_label = test_df[\"labels\"]\n",
        "\n",
        "speed_test_data = test_data.head(100)"
      ],
      "execution_count": null,
      "outputs": []
    },
    {
      "cell_type": "markdown",
      "metadata": {
        "id": "5kzFMiEBPB7K"
      },
      "source": [
        "## 스피드 테스트"
      ]
    },
    {
      "cell_type": "code",
      "metadata": {
        "id": "ADtsfkMsPdsi"
      },
      "source": [
        "model.to(\"cpu\")\n",
        "model.eval()\n",
        "print()"
      ],
      "execution_count": null,
      "outputs": []
    },
    {
      "cell_type": "code",
      "metadata": {
        "id": "mLVdhql7PB7K"
      },
      "source": [
        "%%timeit\n",
        "\n",
        "with torch.no_grad():\n",
        "    tokens = tokenizer(list(speed_test_data), padding=\"max_length\", truncation=True, return_tensors=\"pt\")\n",
        "    _ = model(**tokens)"
      ],
      "execution_count": null,
      "outputs": []
    },
    {
      "cell_type": "markdown",
      "metadata": {
        "id": "VUejlw6sPB7L"
      },
      "source": [
        "## F1 스코어"
      ]
    },
    {
      "cell_type": "code",
      "metadata": {
        "id": "iWuwi3tCPB7L"
      },
      "source": [
        "# f1\n",
        "model.cuda()\n",
        "\n",
        "with torch.no_grad():\n",
        "    tokens = tokenizer(list(test_data), padding=\"max_length\", truncation=True, return_tensors=\"pt\")\n",
        "    tokens = tokens.to(\"cuda\")\n",
        "    preds = model(**tokens)"
      ],
      "execution_count": null,
      "outputs": []
    },
    {
      "cell_type": "code",
      "metadata": {
        "id": "RRvmAtOdPB7M"
      },
      "source": [
        "from sklearn.metrics import f1_score\n",
        "\n",
        "\n",
        "logits = preds.logits.cpu().numpy()\n",
        "pred = np.argmax(logits, 1)\n",
        "\n",
        "f1 = f1_score(test_label, pred, average=\"macro\")\n",
        "print(f1)"
      ],
      "execution_count": null,
      "outputs": []
    }
  ]
}